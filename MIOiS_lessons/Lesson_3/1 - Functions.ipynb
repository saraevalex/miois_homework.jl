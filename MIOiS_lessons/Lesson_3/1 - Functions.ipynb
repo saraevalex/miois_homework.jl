{
 "cells": [
  {
   "cell_type": "markdown",
   "metadata": {},
   "source": [
    "# Функции\n",
    "\n",
    "Содержание лекции:\n",
    "1. Как объявлять функции\n",
    "2. Утиная типизация в Julia\n",
    "3. Мутирующие и немутирующие функции\n",
    "4. Некоторые функции высокого порядка"
   ]
  },
  {
   "cell_type": "markdown",
   "metadata": {},
   "source": [
    "## Как объявлять функции\n",
    "Julia предоставляет несколько различных способов для определения функций. Первый способ - с использованием ключевых слов `function` и `end`."
   ]
  },
  {
   "cell_type": "code",
   "execution_count": 1,
   "metadata": {},
   "outputs": [
    {
     "data": {
      "text/plain": [
       "sayhi (generic function with 1 method)"
      ]
     },
     "execution_count": 1,
     "metadata": {},
     "output_type": "execute_result"
    }
   ],
   "source": [
    "function sayhi(name)\n",
    "    println(\"Привет $name, рад тебя видеть!\")\n",
    "end"
   ]
  },
  {
   "cell_type": "code",
   "execution_count": 2,
   "metadata": {},
   "outputs": [
    {
     "data": {
      "text/plain": [
       "f (generic function with 1 method)"
      ]
     },
     "execution_count": 2,
     "metadata": {},
     "output_type": "execute_result"
    }
   ],
   "source": [
    "function f(x)\n",
    "    return x^2\n",
    "end"
   ]
  },
  {
   "cell_type": "markdown",
   "metadata": {},
   "source": [
    "В дальнейшем эти функции могут быть вызваны следующим образом:"
   ]
  },
  {
   "cell_type": "code",
   "execution_count": null,
   "metadata": {},
   "outputs": [],
   "source": [
    "sayhi(\"C-3PO\")"
   ]
  },
  {
   "cell_type": "code",
   "execution_count": null,
   "metadata": {},
   "outputs": [],
   "source": [
    "f(42)"
   ]
  },
  {
   "cell_type": "markdown",
   "metadata": {},
   "source": [
    "Альтернативный способ заключается в определении функии в одну строку"
   ]
  },
  {
   "cell_type": "code",
   "execution_count": null,
   "metadata": {},
   "outputs": [],
   "source": [
    "sayhi2(name) = println(\"Привет $(name)! Как твои дела?\")"
   ]
  },
  {
   "cell_type": "code",
   "execution_count": null,
   "metadata": {},
   "outputs": [],
   "source": [
    "f2(x) = x^3"
   ]
  },
  {
   "cell_type": "code",
   "execution_count": null,
   "metadata": {},
   "outputs": [],
   "source": [
    "sayhi2(\"R2D2\")"
   ]
  },
  {
   "cell_type": "code",
   "execution_count": null,
   "metadata": {},
   "outputs": [],
   "source": [
    "f2(42)"
   ]
  },
  {
   "cell_type": "markdown",
   "metadata": {},
   "source": [
    "Последний способ заключается в использовании \"анонимных\" функций"
   ]
  },
  {
   "cell_type": "code",
   "execution_count": null,
   "metadata": {},
   "outputs": [],
   "source": [
    "sayhi3 = name -> println(\"Всем привет! И тебе, $(name), тоже!\")"
   ]
  },
  {
   "cell_type": "code",
   "execution_count": null,
   "metadata": {},
   "outputs": [],
   "source": [
    "f3 = x -> x^4"
   ]
  },
  {
   "cell_type": "code",
   "execution_count": null,
   "metadata": {},
   "outputs": [],
   "source": [
    "sayhi3(\"Чуи\")"
   ]
  },
  {
   "cell_type": "code",
   "execution_count": null,
   "metadata": {},
   "outputs": [],
   "source": [
    "f3(42)"
   ]
  },
  {
   "cell_type": "markdown",
   "metadata": {},
   "source": [
    "## Утиная типизация в Julia\n",
    "*\"Если это крякает как утка, то это утка.\"* <br><br>\n",
    "Функции Julia будут работать с любыми входными данными, с которыми их определение имеет смысл. <br><br>\n",
    "Например, `sayhi` работает точно также, если в качестве параметра `name` передать число"
   ]
  },
  {
   "cell_type": "code",
   "execution_count": null,
   "metadata": {},
   "outputs": [],
   "source": [
    "sayhi(55595472)"
   ]
  },
  {
   "cell_type": "markdown",
   "metadata": {},
   "source": [
    "А функция `f` будет работать для квадратных матриц. "
   ]
  },
  {
   "cell_type": "code",
   "execution_count": null,
   "metadata": {},
   "outputs": [],
   "source": [
    "A = rand(3, 3)\n",
    "A"
   ]
  },
  {
   "cell_type": "code",
   "execution_count": null,
   "metadata": {},
   "outputs": [],
   "source": [
    "f(A)"
   ]
  },
  {
   "cell_type": "markdown",
   "metadata": {},
   "source": [
    "`f` так же будет работать, если передать строку \"hi\", поскольку для строковых переменных определена операция `^`, возвращающая копирование строки"
   ]
  },
  {
   "cell_type": "code",
   "execution_count": null,
   "metadata": {},
   "outputs": [],
   "source": [
    "f(\"hi\")"
   ]
  },
  {
   "cell_type": "markdown",
   "metadata": {},
   "source": [
    "С другой стороны, `f` не будет работать с векторами. В отличии от операции `A^2`, которая имеет смысл, операция возведения в степень вектора `v^2` не имеет смысла с математической точки зрения."
   ]
  },
  {
   "cell_type": "code",
   "execution_count": null,
   "metadata": {},
   "outputs": [],
   "source": [
    "v = rand(3)"
   ]
  },
  {
   "cell_type": "code",
   "execution_count": null,
   "metadata": {},
   "outputs": [],
   "source": [
    "# This won't work\n",
    "f(v)"
   ]
  },
  {
   "cell_type": "markdown",
   "metadata": {},
   "source": [
    "## Мутирующие и немутирующие функции\n",
    "\n",
    "Согласно договоренности, функции, название которых оканчивается на `!` изменяют параметры, которые в них передаются, а функции без `!` - не меняют.\n",
    "\n",
    "Например, давайте посмотрим на различие между `sort` и `sort!`.\n"
   ]
  },
  {
   "cell_type": "code",
   "execution_count": null,
   "metadata": {},
   "outputs": [],
   "source": [
    "v = [3, 5, 2]"
   ]
  },
  {
   "cell_type": "code",
   "execution_count": null,
   "metadata": {},
   "outputs": [],
   "source": [
    "sort(v)"
   ]
  },
  {
   "cell_type": "code",
   "execution_count": null,
   "metadata": {},
   "outputs": [],
   "source": [
    "v"
   ]
  },
  {
   "cell_type": "markdown",
   "metadata": {},
   "source": [
    "`sort(v)` возвращает отсортированный вектор `v`, однако `v` остается неизменным. <br><br>\n",
    "\n",
    "С другой сторооны, когда мы вызываем `sort!(v)`, содержимое `v` сортируется внутри переменной."
   ]
  },
  {
   "cell_type": "code",
   "execution_count": null,
   "metadata": {},
   "outputs": [],
   "source": [
    "sort!(v)"
   ]
  },
  {
   "cell_type": "code",
   "execution_count": null,
   "metadata": {},
   "outputs": [],
   "source": [
    "v"
   ]
  },
  {
   "cell_type": "markdown",
   "metadata": {},
   "source": [
    "## Некоторые высокоуровневые функции\n",
    "\n",
    "### map\n",
    "\n",
    "`map` - это \"высокоуровневая\" функция в Julia, которая *принимает функцию* в качестве одного из аргументов. \n",
    "`map` применяет данную функцию к каждому элементу структуры, которую вы также передаете в функцию. Например, выполнив\n",
    "\n",
    "```julia\n",
    "map(f, [1, 2, 3])\n",
    "```\n",
    "вы получите массив, где функция `f` была применена последовательно к `[1, 2, 3]`\n",
    "```julia\n",
    "[f(1), f(2), f(3)]\n",
    "```"
   ]
  },
  {
   "cell_type": "code",
   "execution_count": null,
   "metadata": {},
   "outputs": [],
   "source": [
    "map(f, [1, 2, 3])"
   ]
  },
  {
   "cell_type": "markdown",
   "metadata": {},
   "source": [
    "Здесь мы получили квадраты элементов массива `[1, 2, 3]`, а не \"квадрат\" массива `[1, 2, 3]`.\n",
    "\n",
    "В случае, если у нас нет в наличии необходимой функции что бы передать ее в `map`, мы можем использовать анонимную функцию, которая создается \"налету\""
   ]
  },
  {
   "cell_type": "code",
   "execution_count": null,
   "metadata": {},
   "outputs": [],
   "source": [
    "map(x -> x^5, [1, 2, 3])"
   ]
  },
  {
   "cell_type": "markdown",
   "metadata": {},
   "source": [
    "И теперь у нас есть пятые степени массива `[1, 2, 3]`"
   ]
  },
  {
   "cell_type": "markdown",
   "metadata": {},
   "source": [
    "### broadcast\n",
    "\n",
    "`broadcast` другая высокоуровневая функция по-типу `map`. `broadcast` является обобщением `map`, так что она может делать все, что может `map` и даже больше. Синтаксис выова `broadcast` такой же как и у `map`"
   ]
  },
  {
   "cell_type": "code",
   "execution_count": null,
   "metadata": {},
   "outputs": [],
   "source": [
    "broadcast(f, [1, 2, 3])"
   ]
  },
  {
   "cell_type": "markdown",
   "metadata": {},
   "source": [
    "и снова, мы преминяем `f` (возведение в квадрат) ко всем элементам `[1, 2, 3]` - теперь средствами \"броадкастинга\" `f`!\n",
    "\n",
    "Другой способ вызова функции `broadcast` - это разместить `.` между именем функции и ее аргументами. Например,\n",
    "\n",
    "```julia\n",
    "broadcast(f, [1, 2, 3])\n",
    "```\n",
    "тоже самое, что и \n",
    "```julia\n",
    "f.([1, 2, 3])\n",
    "```"
   ]
  },
  {
   "cell_type": "code",
   "execution_count": null,
   "metadata": {},
   "outputs": [],
   "source": [
    "f.([1, 2, 3])"
   ]
  },
  {
   "cell_type": "markdown",
   "metadata": {},
   "source": [
    "Снова обратите внимание, как это отличается от вызова\n",
    "```julia\n",
    "f([1, 2, 3])\n",
    "```\n",
    "Теперь мы можем возводить в квадрат элементов вектора, а не весь  вектор целиком!"
   ]
  },
  {
   "cell_type": "markdown",
   "metadata": {},
   "source": [
    "И, чтобы дойти до конца, посмотрим на разницу между\n",
    "\n",
    "```julia\n",
    "f(A)\n",
    "```\n",
    "и\n",
    "```julia\n",
    "f.(A)\n",
    "```\n",
    "для матрицы `A`:"
   ]
  },
  {
   "cell_type": "code",
   "execution_count": null,
   "metadata": {},
   "outputs": [],
   "source": [
    "A = [i + 3*j for j in 0:2, i in 1:3]"
   ]
  },
  {
   "cell_type": "code",
   "execution_count": null,
   "metadata": {},
   "outputs": [],
   "source": [
    "f(A)"
   ]
  },
  {
   "cell_type": "markdown",
   "metadata": {},
   "source": [
    "Как мы уже раньше видели, для матрицы `A`,\n",
    "```\n",
    "f(A) = A^2 = A * A\n",
    "``` \n",
    "\n",
    "С другой стороны,"
   ]
  },
  {
   "cell_type": "code",
   "execution_count": null,
   "metadata": {},
   "outputs": [],
   "source": [
    "B = f.(A)"
   ]
  },
  {
   "cell_type": "markdown",
   "metadata": {},
   "source": [
    "содержит квадраты всех элементов матрицы `A`.\n",
    "\n",
    "Этот синтаксис с точкой для броадкастинга позволяет нам писать относительно сложные элементно-зависимые выражения в виде, похожем на  математические записи. К примеру, мы можем записать:"
   ]
  },
  {
   "cell_type": "code",
   "execution_count": null,
   "metadata": {},
   "outputs": [],
   "source": [
    "A .+ 2 .* f.(A) ./ A"
   ]
  },
  {
   "cell_type": "markdown",
   "metadata": {},
   "source": [
    "вместо"
   ]
  },
  {
   "cell_type": "code",
   "execution_count": null,
   "metadata": {},
   "outputs": [],
   "source": [
    "broadcast(x -> x + 2 * f(x) / x, A)"
   ]
  },
  {
   "cell_type": "markdown",
   "metadata": {},
   "source": [
    "хотя обе записи по делают то же самое."
   ]
  },
  {
   "cell_type": "markdown",
   "metadata": {},
   "source": [
    "### Упраженения\n",
    "\n",
    "#### 6.1 \n",
    "Напишите функцию `add_one` которая добавляет 1 ко входному значению."
   ]
  },
  {
   "cell_type": "code",
   "execution_count": null,
   "metadata": {},
   "outputs": [],
   "source": []
  },
  {
   "cell_type": "code",
   "execution_count": null,
   "metadata": {
    "deletable": false,
    "editable": false,
    "hide_input": true,
    "nbgrader": {
     "checksum": "253b17dc2f3d3a58042fbc36042a0fd5",
     "grade": true,
     "grade_id": "cell-5119b9e9623c1cb7",
     "locked": true,
     "points": 1,
     "schema_version": 1,
     "solution": false
    }
   },
   "outputs": [],
   "source": [
    "@assert add_one(1) == 2"
   ]
  },
  {
   "cell_type": "code",
   "execution_count": null,
   "metadata": {
    "deletable": false,
    "editable": false,
    "hide_input": true,
    "nbgrader": {
     "checksum": "4e05440e19cd3606df11186d41d562bf",
     "grade": true,
     "grade_id": "cell-50f83d27187a2064",
     "locked": true,
     "points": 1,
     "schema_version": 1,
     "solution": false
    }
   },
   "outputs": [],
   "source": [
    "@assert add_one(11) == 12"
   ]
  },
  {
   "cell_type": "markdown",
   "metadata": {},
   "source": [
    "#### 6.2 \n",
    "Используйте `map` или `broadcast`, чтобы увеличить каждый элемент матрицы `A` на `1` и присвоить результат в переменную `A1`."
   ]
  },
  {
   "cell_type": "code",
   "execution_count": null,
   "metadata": {},
   "outputs": [],
   "source": []
  },
  {
   "cell_type": "code",
   "execution_count": null,
   "metadata": {},
   "outputs": [],
   "source": [
    "@assert A1 == [2 3 4; 5 6 7; 8 9 10]"
   ]
  },
  {
   "cell_type": "markdown",
   "metadata": {},
   "source": [
    "#### 6.3 \n",
    "Используйте синтаксис `broadcast` с точкой, чтобы увеличить каждый элемент матрицы `A1` на `1` и поместить его в переменную `A2`"
   ]
  },
  {
   "cell_type": "code",
   "execution_count": null,
   "metadata": {},
   "outputs": [],
   "source": []
  },
  {
   "cell_type": "code",
   "execution_count": null,
   "metadata": {
    "deletable": false,
    "editable": false,
    "hide_input": true,
    "nbgrader": {
     "checksum": "3e3d797962df904deed0e7ee7782b69a",
     "grade": true,
     "grade_id": "cell-f3bd5479679a8fe1",
     "locked": true,
     "points": 0,
     "schema_version": 1,
     "solution": false
    }
   },
   "outputs": [],
   "source": [
    "@assert A2 == [3 4 5; 6 7 8; 9 10 11]"
   ]
  },
  {
   "cell_type": "markdown",
   "metadata": {},
   "source": [
    "ЗАДАНИЕ 1"
   ]
  },
  {
   "cell_type": "code",
   "execution_count": 7,
   "metadata": {},
   "outputs": [
    {
     "data": {
      "text/plain": [
       "3-element Vector{Any}:\n",
       " 6\n",
       " 5\n",
       " 8"
      ]
     },
     "metadata": {},
     "output_type": "display_data"
    }
   ],
   "source": [
    "function getdigits(a)\n",
    "    chisla = [];\n",
    "    num = a;\n",
    "    while (num/10) > 1\n",
    "        push!(chisla, num%10);\n",
    "        num = num÷10;\n",
    "    end\n",
    "    push!(chisla, num);\n",
    "    return chisla[end:-1:1];\n",
    "end\n",
    "\n",
    "getdigits(658)\n",
    "\n"
   ]
  },
  {
   "cell_type": "code",
   "execution_count": 24,
   "metadata": {},
   "outputs": [
    {
     "name": "stdout",
     "output_type": "stream",
     "text": [
      "\n"
     ]
    },
    {
     "data": {
      "text/plain": [
       "\"STRANICA\""
      ]
     },
     "metadata": {},
     "output_type": "display_data"
    }
   ],
   "source": [
    "\n",
    "\n",
    "function touppercase(str_)\n",
    "    s=\"\"\n",
    "    println(s)\n",
    "    for simv in str_\n",
    "        if 'a'<=simv<='z'\n",
    "             nsimv=Char(Int(simv)-Int('a')+Int('A'))\n",
    "             s *= nsimv\n",
    "        else\n",
    "            s *= simv\n",
    "        end\n",
    "    end\n",
    "    return s \n",
    "end\n",
    "\n",
    "touppercase(\"straNiCa\")"
   ]
  },
  {
   "cell_type": "code",
   "execution_count": 21,
   "metadata": {},
   "outputs": [
    {
     "data": {
      "text/plain": [
       "\"STRANU\""
      ]
     },
     "metadata": {},
     "output_type": "display_data"
    }
   ],
   "source": [
    "function touppercase(str_)\n",
    "    buf = [];\n",
    "    for sym in str_\n",
    "        if (sym>='a')&&(sym<='z')\n",
    "            push!(buf, sym + ('A' - 'a'));\n",
    "        else\n",
    "            push!(buf, sym);\n",
    "        end\n",
    "    end\n",
    "    return join(buf);\n",
    "end\n",
    "\n",
    "touppercase(\"STraNu\")"
   ]
  },
  {
   "cell_type": "code",
   "execution_count": 33,
   "metadata": {},
   "outputs": [
    {
     "data": {
      "text/plain": [
       "true"
      ]
     },
     "metadata": {},
     "output_type": "display_data"
    }
   ],
   "source": [
    "function isleap(year)\n",
    "    if year%400==0 return true\n",
    "    elseif year%100==0 return false\n",
    "    elseif year%4==0 return true\n",
    "    else\n",
    "        return false\n",
    "    end\n",
    "end\n",
    "\n",
    "isleap(2024)"
   ]
  },
  {
   "cell_type": "code",
   "execution_count": 50,
   "metadata": {},
   "outputs": [
    {
     "data": {
      "text/plain": [
       "true"
      ]
     },
     "metadata": {},
     "output_type": "display_data"
    }
   ],
   "source": [
    "function chessfloor(cell1, cell2)\n",
    "    num1=Int(cell1[1])-Int('a')\n",
    "    num2=Int(cell2[1]-Int('a'))\n",
    "\n",
    "if ((cell1[2]+num1)%2==(cell2[2]+num2)%2) return true\n",
    "else return false\n",
    "end\n",
    "end\n",
    "\n",
    "chessfloor(['a',1],['a',3])"
   ]
  },
  {
   "cell_type": "code",
   "execution_count": 2,
   "metadata": {},
   "outputs": [
    {
     "data": {
      "text/plain": [
       "500500"
      ]
     },
     "metadata": {},
     "output_type": "display_data"
    }
   ],
   "source": [
    "\n",
    "\n",
    "function firstnorm(vec_::AbstractVector{<:Number})\n",
    "    norm=0\n",
    "    for i in vec_\n",
    "     norm += abs(i)\n",
    "    end\n",
    "    return norm\n",
    " end\n",
    "\n",
    " vec=1:1000\n",
    " firstnorm(vec)"
   ]
  },
  {
   "cell_type": "code",
   "execution_count": 7,
   "metadata": {},
   "outputs": [
    {
     "data": {
      "text/plain": [
       "5.283524110466422"
      ]
     },
     "metadata": {},
     "output_type": "display_data"
    }
   ],
   "source": [
    "function infnorm(mat_::AbstractMatrix{<:Number})\n",
    "    rows, cols = size(mat_)\n",
    "    for j=1:cols\n",
    "        for i=1:rows\n",
    "            mat_[i,j]=(mat_[i,j])^2\n",
    "        end\n",
    "    end\n",
    "    sum=0\n",
    "    for j=1:cols\n",
    "        for i=1:rows\n",
    "            sum+=mat_[i,j]\n",
    "        end\n",
    "    end\n",
    "    return (sum)^(1/2)\n",
    "end\n",
    "\n",
    "b = rand(10, 10)\n",
    "infnorm(b)\n"
   ]
  }
 ],
 "metadata": {
  "kernelspec": {
   "display_name": "Julia 1.9.3",
   "language": "julia",
   "name": "julia-1.9"
  },
  "language_info": {
   "file_extension": ".jl",
   "mimetype": "application/julia",
   "name": "julia",
   "version": "1.9.3"
  }
 },
 "nbformat": 4,
 "nbformat_minor": 4
}
